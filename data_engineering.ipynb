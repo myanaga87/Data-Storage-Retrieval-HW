{
 "cells": [
  {
   "cell_type": "code",
   "execution_count": 1,
   "metadata": {
    "collapsed": true
   },
   "outputs": [],
   "source": [
    "# import dependencies\n",
    "\n",
    "import pandas as pd"
   ]
  },
  {
   "cell_type": "code",
   "execution_count": 3,
   "metadata": {},
   "outputs": [
    {
     "data": {
      "text/html": [
       "<div>\n",
       "<style>\n",
       "    .dataframe thead tr:only-child th {\n",
       "        text-align: right;\n",
       "    }\n",
       "\n",
       "    .dataframe thead th {\n",
       "        text-align: left;\n",
       "    }\n",
       "\n",
       "    .dataframe tbody tr th {\n",
       "        vertical-align: top;\n",
       "    }\n",
       "</style>\n",
       "<table border=\"1\" class=\"dataframe\">\n",
       "  <thead>\n",
       "    <tr style=\"text-align: right;\">\n",
       "      <th></th>\n",
       "      <th>station</th>\n",
       "      <th>date</th>\n",
       "      <th>prcp</th>\n",
       "      <th>tobs</th>\n",
       "    </tr>\n",
       "  </thead>\n",
       "  <tbody>\n",
       "    <tr>\n",
       "      <th>0</th>\n",
       "      <td>USC00519397</td>\n",
       "      <td>2010-01-01</td>\n",
       "      <td>0.08</td>\n",
       "      <td>65</td>\n",
       "    </tr>\n",
       "    <tr>\n",
       "      <th>1</th>\n",
       "      <td>USC00519397</td>\n",
       "      <td>2010-01-02</td>\n",
       "      <td>0.00</td>\n",
       "      <td>63</td>\n",
       "    </tr>\n",
       "    <tr>\n",
       "      <th>2</th>\n",
       "      <td>USC00519397</td>\n",
       "      <td>2010-01-03</td>\n",
       "      <td>0.00</td>\n",
       "      <td>74</td>\n",
       "    </tr>\n",
       "    <tr>\n",
       "      <th>3</th>\n",
       "      <td>USC00519397</td>\n",
       "      <td>2010-01-04</td>\n",
       "      <td>0.00</td>\n",
       "      <td>76</td>\n",
       "    </tr>\n",
       "    <tr>\n",
       "      <th>4</th>\n",
       "      <td>USC00519397</td>\n",
       "      <td>2010-01-06</td>\n",
       "      <td>NaN</td>\n",
       "      <td>73</td>\n",
       "    </tr>\n",
       "  </tbody>\n",
       "</table>\n",
       "</div>"
      ],
      "text/plain": [
       "       station        date  prcp  tobs\n",
       "0  USC00519397  2010-01-01  0.08    65\n",
       "1  USC00519397  2010-01-02  0.00    63\n",
       "2  USC00519397  2010-01-03  0.00    74\n",
       "3  USC00519397  2010-01-04  0.00    76\n",
       "4  USC00519397  2010-01-06   NaN    73"
      ]
     },
     "execution_count": 3,
     "metadata": {},
     "output_type": "execute_result"
    }
   ],
   "source": [
    "# import and read hawaii_measurements.csv\n",
    "\n",
    "csv_path = ('../NUCHI201801DATA4-Class-Repository-DATA/MWS/Homework/11-Adv-Data-Storage-Retrieval/Instructions/Resources/hawaii_measurements.csv')\n",
    "\n",
    "hawaii1 = pd.read_csv(csv_path)\n",
    "\n",
    "hawaii1.head()"
   ]
  },
  {
   "cell_type": "code",
   "execution_count": 6,
   "metadata": {},
   "outputs": [
    {
     "data": {
      "text/plain": [
       "station    19550\n",
       "date       19550\n",
       "prcp       18103\n",
       "tobs       19550\n",
       "dtype: int64"
      ]
     },
     "execution_count": 6,
     "metadata": {},
     "output_type": "execute_result"
    }
   ],
   "source": [
    "# check for NaNs in the data\n",
    "\n",
    "hawaii1.count()"
   ]
  },
  {
   "cell_type": "code",
   "execution_count": 12,
   "metadata": {},
   "outputs": [
    {
     "name": "stdout",
     "output_type": "stream",
     "text": [
      "           station        date  prcp  tobs\n",
      "4      USC00519397  2010-01-06   NaN    73\n",
      "26     USC00519397  2010-01-30   NaN    70\n",
      "29     USC00519397  2010-02-03   NaN    67\n",
      "43     USC00519397  2010-02-19   NaN    63\n",
      "61     USC00519397  2010-03-11   NaN    73\n",
      "72     USC00519397  2010-03-26   NaN    72\n",
      "122    USC00519397  2010-05-21   NaN    77\n",
      "176    USC00519397  2010-07-16   NaN    78\n",
      "282    USC00519397  2010-11-04   NaN    73\n",
      "294    USC00519397  2010-11-19   NaN    72\n",
      "324    USC00519397  2010-12-26   NaN    74\n",
      "341    USC00519397  2011-01-13   NaN    68\n",
      "369    USC00519397  2011-02-12   NaN    68\n",
      "390    USC00519397  2011-03-08   NaN    72\n",
      "490    USC00519397  2011-06-24   NaN    77\n",
      "586    USC00519397  2011-10-05   NaN    79\n",
      "830    USC00519397  2012-06-08   NaN    77\n",
      "831    USC00519397  2012-06-09   NaN    76\n",
      "861    USC00519397  2012-07-09   NaN    77\n",
      "901    USC00519397  2012-08-18   NaN    77\n",
      "902    USC00519397  2012-08-19   NaN    76\n",
      "1011   USC00519397  2012-12-06   NaN    69\n",
      "1012   USC00519397  2012-12-07   NaN    69\n",
      "1045   USC00519397  2013-01-10   NaN    72\n",
      "1046   USC00519397  2013-01-11   NaN    72\n",
      "1240   USC00519397  2013-07-24   NaN    79\n",
      "1410   USC00519397  2014-01-10   NaN    72\n",
      "1411   USC00519397  2014-01-11   NaN    70\n",
      "1528   USC00519397  2014-05-08   NaN    73\n",
      "1529   USC00519397  2014-05-09   NaN    77\n",
      "...            ...         ...   ...   ...\n",
      "19128  USC00516128  2016-06-05   NaN    73\n",
      "19147  USC00516128  2016-06-25   NaN    73\n",
      "19152  USC00516128  2016-07-01   NaN    74\n",
      "19153  USC00516128  2016-07-04   NaN    74\n",
      "19170  USC00516128  2016-07-23   NaN    74\n",
      "19181  USC00516128  2016-08-03   NaN    74\n",
      "19182  USC00516128  2016-08-04   NaN    74\n",
      "19183  USC00516128  2016-08-05   NaN    75\n",
      "19184  USC00516128  2016-08-06   NaN    77\n",
      "19204  USC00516128  2016-08-27   NaN    74\n",
      "19287  USC00516128  2016-11-20   NaN    74\n",
      "19314  USC00516128  2016-12-18   NaN    67\n",
      "19361  USC00516128  2017-02-04   NaN    66\n",
      "19374  USC00516128  2017-02-18   NaN    72\n",
      "19396  USC00516128  2017-03-13   NaN    69\n",
      "19400  USC00516128  2017-03-18   NaN    70\n",
      "19412  USC00516128  2017-03-31   NaN    76\n",
      "19419  USC00516128  2017-04-08   NaN    76\n",
      "19444  USC00516128  2017-05-04   NaN    74\n",
      "19459  USC00516128  2017-05-20   NaN    70\n",
      "19468  USC00516128  2017-05-30   NaN    72\n",
      "19470  USC00516128  2017-06-03   NaN    74\n",
      "19476  USC00516128  2017-06-10   NaN    72\n",
      "19528  USC00516128  2017-08-01   NaN    72\n",
      "19531  USC00516128  2017-08-05   NaN    77\n",
      "19532  USC00516128  2017-08-06   NaN    79\n",
      "19537  USC00516128  2017-08-11   NaN    72\n",
      "19539  USC00516128  2017-08-13   NaN    80\n",
      "19544  USC00516128  2017-08-18   NaN    76\n",
      "19546  USC00516128  2017-08-20   NaN    78\n",
      "\n",
      "[1447 rows x 4 columns]\n"
     ]
    }
   ],
   "source": [
    "# check for NaNs in the data (cont.)\n",
    "\n",
    "only_NaNs = hawaii1.loc[hawaii1[\"prcp\"].isnull(),:]\n",
    "print(only_NaNs)"
   ]
  },
  {
   "cell_type": "code",
   "execution_count": 13,
   "metadata": {},
   "outputs": [
    {
     "data": {
      "text/plain": [
       "station    18103\n",
       "date       18103\n",
       "prcp       18103\n",
       "tobs       18103\n",
       "dtype: int64"
      ]
     },
     "execution_count": 13,
     "metadata": {},
     "output_type": "execute_result"
    }
   ],
   "source": [
    "# The number of rows with NaN isn't material, so I'm just going to take them out\n",
    "\n",
    "# Drop all rows with missing information\n",
    "hawaii1 = hawaii1.dropna(how='any')\n",
    "\n",
    "# re-check columns\n",
    "hawaii1.count()"
   ]
  },
  {
   "cell_type": "code",
   "execution_count": 19,
   "metadata": {
    "collapsed": true
   },
   "outputs": [],
   "source": [
    "# Save your cleaned CSV files with the prefix clean_\n",
    "\n",
    "hawaii1.to_csv(\"clean_hawaii_measurements.csv\", index=False, encoding='utf-8')"
   ]
  },
  {
   "cell_type": "code",
   "execution_count": 17,
   "metadata": {},
   "outputs": [
    {
     "data": {
      "text/html": [
       "<div>\n",
       "<style>\n",
       "    .dataframe thead tr:only-child th {\n",
       "        text-align: right;\n",
       "    }\n",
       "\n",
       "    .dataframe thead th {\n",
       "        text-align: left;\n",
       "    }\n",
       "\n",
       "    .dataframe tbody tr th {\n",
       "        vertical-align: top;\n",
       "    }\n",
       "</style>\n",
       "<table border=\"1\" class=\"dataframe\">\n",
       "  <thead>\n",
       "    <tr style=\"text-align: right;\">\n",
       "      <th></th>\n",
       "      <th>station</th>\n",
       "      <th>name</th>\n",
       "      <th>latitude</th>\n",
       "      <th>longitude</th>\n",
       "      <th>elevation</th>\n",
       "    </tr>\n",
       "  </thead>\n",
       "  <tbody>\n",
       "    <tr>\n",
       "      <th>0</th>\n",
       "      <td>USC00519397</td>\n",
       "      <td>WAIKIKI 717.2, HI US</td>\n",
       "      <td>21.27160</td>\n",
       "      <td>-157.81680</td>\n",
       "      <td>3.0</td>\n",
       "    </tr>\n",
       "    <tr>\n",
       "      <th>1</th>\n",
       "      <td>USC00513117</td>\n",
       "      <td>KANEOHE 838.1, HI US</td>\n",
       "      <td>21.42340</td>\n",
       "      <td>-157.80150</td>\n",
       "      <td>14.6</td>\n",
       "    </tr>\n",
       "    <tr>\n",
       "      <th>2</th>\n",
       "      <td>USC00514830</td>\n",
       "      <td>KUALOA RANCH HEADQUARTERS 886.9, HI US</td>\n",
       "      <td>21.52130</td>\n",
       "      <td>-157.83740</td>\n",
       "      <td>7.0</td>\n",
       "    </tr>\n",
       "    <tr>\n",
       "      <th>3</th>\n",
       "      <td>USC00517948</td>\n",
       "      <td>PEARL CITY, HI US</td>\n",
       "      <td>21.39340</td>\n",
       "      <td>-157.97510</td>\n",
       "      <td>11.9</td>\n",
       "    </tr>\n",
       "    <tr>\n",
       "      <th>4</th>\n",
       "      <td>USC00518838</td>\n",
       "      <td>UPPER WAHIAWA 874.3, HI US</td>\n",
       "      <td>21.49920</td>\n",
       "      <td>-158.01110</td>\n",
       "      <td>306.6</td>\n",
       "    </tr>\n",
       "    <tr>\n",
       "      <th>5</th>\n",
       "      <td>USC00519523</td>\n",
       "      <td>WAIMANALO EXPERIMENTAL FARM, HI US</td>\n",
       "      <td>21.33556</td>\n",
       "      <td>-157.71139</td>\n",
       "      <td>19.5</td>\n",
       "    </tr>\n",
       "    <tr>\n",
       "      <th>6</th>\n",
       "      <td>USC00519281</td>\n",
       "      <td>WAIHEE 837.5, HI US</td>\n",
       "      <td>21.45167</td>\n",
       "      <td>-157.84889</td>\n",
       "      <td>32.9</td>\n",
       "    </tr>\n",
       "    <tr>\n",
       "      <th>7</th>\n",
       "      <td>USC00511918</td>\n",
       "      <td>HONOLULU OBSERVATORY 702.2, HI US</td>\n",
       "      <td>21.31520</td>\n",
       "      <td>-157.99920</td>\n",
       "      <td>0.9</td>\n",
       "    </tr>\n",
       "    <tr>\n",
       "      <th>8</th>\n",
       "      <td>USC00516128</td>\n",
       "      <td>MANOA LYON ARBO 785.2, HI US</td>\n",
       "      <td>21.33310</td>\n",
       "      <td>-157.80250</td>\n",
       "      <td>152.4</td>\n",
       "    </tr>\n",
       "  </tbody>\n",
       "</table>\n",
       "</div>"
      ],
      "text/plain": [
       "       station                                    name  latitude  longitude  \\\n",
       "0  USC00519397                    WAIKIKI 717.2, HI US  21.27160 -157.81680   \n",
       "1  USC00513117                    KANEOHE 838.1, HI US  21.42340 -157.80150   \n",
       "2  USC00514830  KUALOA RANCH HEADQUARTERS 886.9, HI US  21.52130 -157.83740   \n",
       "3  USC00517948                       PEARL CITY, HI US  21.39340 -157.97510   \n",
       "4  USC00518838              UPPER WAHIAWA 874.3, HI US  21.49920 -158.01110   \n",
       "5  USC00519523      WAIMANALO EXPERIMENTAL FARM, HI US  21.33556 -157.71139   \n",
       "6  USC00519281                     WAIHEE 837.5, HI US  21.45167 -157.84889   \n",
       "7  USC00511918       HONOLULU OBSERVATORY 702.2, HI US  21.31520 -157.99920   \n",
       "8  USC00516128            MANOA LYON ARBO 785.2, HI US  21.33310 -157.80250   \n",
       "\n",
       "   elevation  \n",
       "0        3.0  \n",
       "1       14.6  \n",
       "2        7.0  \n",
       "3       11.9  \n",
       "4      306.6  \n",
       "5       19.5  \n",
       "6       32.9  \n",
       "7        0.9  \n",
       "8      152.4  "
      ]
     },
     "execution_count": 17,
     "metadata": {},
     "output_type": "execute_result"
    }
   ],
   "source": [
    "# import and read hawaii_stations.csv\n",
    "\n",
    "csv_path = ('../NUCHI201801DATA4-Class-Repository-DATA/MWS/Homework/11-Adv-Data-Storage-Retrieval/Instructions/Resources/hawaii_stations.csv')\n",
    "\n",
    "hawaii2 = pd.read_csv(csv_path)\n",
    "\n",
    "hawaii2"
   ]
  },
  {
   "cell_type": "code",
   "execution_count": 20,
   "metadata": {
    "collapsed": true
   },
   "outputs": [],
   "source": [
    "# Save your cleaned CSV files with the prefix clean_\n",
    "\n",
    "hawaii2.to_csv(\"clean_hawaii_stations.csv\", index=False, encoding='utf-8')"
   ]
  },
  {
   "cell_type": "code",
   "execution_count": null,
   "metadata": {
    "collapsed": true
   },
   "outputs": [],
   "source": []
  }
 ],
 "metadata": {
  "kernelspec": {
   "display_name": "Python 3",
   "language": "python",
   "name": "python3"
  },
  "language_info": {
   "codemirror_mode": {
    "name": "ipython",
    "version": 3
   },
   "file_extension": ".py",
   "mimetype": "text/x-python",
   "name": "python",
   "nbconvert_exporter": "python",
   "pygments_lexer": "ipython3",
   "version": "3.6.3"
  }
 },
 "nbformat": 4,
 "nbformat_minor": 2
}
